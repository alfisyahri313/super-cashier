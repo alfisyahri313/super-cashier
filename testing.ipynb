{
 "cells": [
  {
   "cell_type": "code",
   "execution_count": 377,
   "metadata": {},
   "outputs": [],
   "source": [
    "from main import Transaction"
   ]
  },
  {
   "cell_type": "code",
   "execution_count": 378,
   "metadata": {},
   "outputs": [],
   "source": [
    "Customer = Transaction()"
   ]
  },
  {
   "attachments": {},
   "cell_type": "markdown",
   "metadata": {},
   "source": [
    "## Main Operation"
   ]
  },
  {
   "attachments": {},
   "cell_type": "markdown",
   "metadata": {},
   "source": [
    "### 1. Add New Item\n",
    "User adds a new item to the Order Table: Sate with a quantity of 2 and a unit price of 15000."
   ]
  },
  {
   "cell_type": "code",
   "execution_count": 379,
   "metadata": {},
   "outputs": [
    {
     "name": "stdout",
     "output_type": "stream",
     "text": [
      "Item added.\n",
      "  item_name  quantity  price  total_price_before_discount\n",
      "0      Sate         2  15000                        30000\n"
     ]
    }
   ],
   "source": [
    "Customer.add_item(\"Sate\", 2, 15000)"
   ]
  },
  {
   "attachments": {},
   "cell_type": "markdown",
   "metadata": {},
   "source": [
    "User adds other new item to the Order Table: Nasi Goreng with a quantity of 3 and a unit price of 10000."
   ]
  },
  {
   "cell_type": "code",
   "execution_count": 380,
   "metadata": {},
   "outputs": [
    {
     "name": "stdout",
     "output_type": "stream",
     "text": [
      "Item added.\n",
      "     item_name  quantity  price  total_price_before_discount\n",
      "0         Sate         2  15000                        30000\n",
      "1  Nasi Goreng         3  10000                        30000\n"
     ]
    }
   ],
   "source": [
    "Customer.add_item(\"Nasi Goreng\", 3, 10000)"
   ]
  },
  {
   "attachments": {},
   "cell_type": "markdown",
   "metadata": {},
   "source": [
    "### 2. Delete Item\n",
    "User deletes item from the Order Table : Sate"
   ]
  },
  {
   "cell_type": "code",
   "execution_count": 381,
   "metadata": {},
   "outputs": [
    {
     "name": "stdout",
     "output_type": "stream",
     "text": [
      "Item deleted.\n",
      "     item_name  quantity  price  total_price_before_discount\n",
      "0  Nasi Goreng         3  10000                        30000\n"
     ]
    }
   ],
   "source": [
    "Customer.delete_item(\"Sate\")"
   ]
  },
  {
   "attachments": {},
   "cell_type": "markdown",
   "metadata": {},
   "source": [
    "### 3. Update Item Name\n",
    "User updates item name of Sate to Soto"
   ]
  },
  {
   "cell_type": "code",
   "execution_count": 382,
   "metadata": {},
   "outputs": [
    {
     "name": "stdout",
     "output_type": "stream",
     "text": [
      "Item not found.\n"
     ]
    }
   ],
   "source": [
    "Customer.update_item_name(\"Sate\", \"Soto\")"
   ]
  },
  {
   "attachments": {},
   "cell_type": "markdown",
   "metadata": {},
   "source": [
    "### 4. Update Item Quantity\n",
    "User updates item quantity of Nasi Goreng from 3 to 2"
   ]
  },
  {
   "cell_type": "code",
   "execution_count": 383,
   "metadata": {},
   "outputs": [
    {
     "name": "stdout",
     "output_type": "stream",
     "text": [
      "Item quantity updated.\n",
      "     item_name  quantity  price  total_price_before_discount\n",
      "0  Nasi Goreng         2  10000                        20000\n"
     ]
    }
   ],
   "source": [
    "Customer.update_item_quantity(\"Nasi Goreng\", 2)"
   ]
  },
  {
   "attachments": {},
   "cell_type": "markdown",
   "metadata": {},
   "source": [
    "### 5. Update Item Price\n",
    "User updates Item Price of Soto to 12000"
   ]
  },
  {
   "cell_type": "code",
   "execution_count": 384,
   "metadata": {},
   "outputs": [
    {
     "name": "stdout",
     "output_type": "stream",
     "text": [
      "Item not found.\n"
     ]
    }
   ],
   "source": [
    "Customer.update_item_price(\"Soto\", 12000)"
   ]
  },
  {
   "attachments": {},
   "cell_type": "markdown",
   "metadata": {},
   "source": [
    "### 6. Check Order\n",
    "User checks current Order Table"
   ]
  },
  {
   "cell_type": "code",
   "execution_count": 385,
   "metadata": {},
   "outputs": [
    {
     "name": "stdout",
     "output_type": "stream",
     "text": [
      "     item_name  quantity  price  total_price_before_discount\n",
      "0  Nasi Goreng         2  10000                        20000\n"
     ]
    }
   ],
   "source": [
    "Customer.check_order()"
   ]
  },
  {
   "attachments": {},
   "cell_type": "markdown",
   "metadata": {},
   "source": [
    "### 7. Reset Transaction\n",
    "User resets transaction by deleting all items."
   ]
  },
  {
   "cell_type": "code",
   "execution_count": 386,
   "metadata": {},
   "outputs": [
    {
     "name": "stdout",
     "output_type": "stream",
     "text": [
      "Transaction reset.\n",
      "Transaction is empty.\n"
     ]
    }
   ],
   "source": [
    "Customer.reset_transaction()"
   ]
  },
  {
   "attachments": {},
   "cell_type": "markdown",
   "metadata": {},
   "source": [
    "### 8. Check Out\n",
    "User checks out Order table with 0 items."
   ]
  },
  {
   "cell_type": "code",
   "execution_count": 387,
   "metadata": {},
   "outputs": [
    {
     "name": "stdout",
     "output_type": "stream",
     "text": [
      "Total Price Before Discount: 0\n",
      "Total Discount: 0\n",
      "Total Price: 0\n",
      "Transaction reset.\n",
      "Transaction is empty.\n"
     ]
    }
   ],
   "source": [
    "Customer.check_out()"
   ]
  },
  {
   "attachments": {},
   "cell_type": "markdown",
   "metadata": {},
   "source": [
    "User adds items to Order Table"
   ]
  },
  {
   "cell_type": "code",
   "execution_count": 388,
   "metadata": {},
   "outputs": [
    {
     "name": "stdout",
     "output_type": "stream",
     "text": [
      "Item added.\n",
      "  item_name  quantity  price  total_price_before_discount\n",
      "0      Sate         2  15000                        30000\n",
      "Item added.\n",
      "     item_name  quantity  price  total_price_before_discount\n",
      "0         Sate         2  15000                        30000\n",
      "1  Nasi Goreng         3  10000                        30000\n",
      "Item added.\n",
      "     item_name  quantity   price  total_price_before_discount\n",
      "0         Sate         2   15000                        30000\n",
      "1  Nasi Goreng         3   10000                        30000\n",
      "2        Steak         3  100000                       300000\n"
     ]
    }
   ],
   "source": [
    "Customer.add_item(\"Sate\", 2, 15000)\n",
    "Customer.add_item(\"Nasi Goreng\", 3, 10000)\n",
    "Customer.add_item(\"Steak\", 3, 100000)"
   ]
  },
  {
   "attachments": {},
   "cell_type": "markdown",
   "metadata": {},
   "source": [
    "User check out Order table with several items."
   ]
  },
  {
   "cell_type": "code",
   "execution_count": 389,
   "metadata": {},
   "outputs": [
    {
     "name": "stdout",
     "output_type": "stream",
     "text": [
      "Sate: 2 x 15000 = 30000\n",
      "Nasi Goreng: 3 x 10000 = 30000\n",
      "Steak: 3 x 100000 = 285000.0\n",
      "Total Price Before Discount: 360000\n",
      "Total Discount: 15000.0\n",
      "Total Price: 345000.0\n",
      "Transaction reset.\n",
      "Transaction is empty.\n"
     ]
    }
   ],
   "source": [
    "Customer.check_out()"
   ]
  },
  {
   "attachments": {},
   "cell_type": "markdown",
   "metadata": {},
   "source": [
    "## Input Validation "
   ]
  },
  {
   "attachments": {},
   "cell_type": "markdown",
   "metadata": {},
   "source": [
    "### 1. Item Name Must be String and Can not Empty String\n",
    "User adds item name to Table with number"
   ]
  },
  {
   "cell_type": "code",
   "execution_count": 390,
   "metadata": {},
   "outputs": [
    {
     "name": "stdout",
     "output_type": "stream",
     "text": [
      "Invalid input!\n"
     ]
    }
   ],
   "source": [
    "Customer.add_item(12, 3, 10000)"
   ]
  },
  {
   "attachments": {},
   "cell_type": "markdown",
   "metadata": {},
   "source": [
    "User adds item name to Table with empty string"
   ]
  },
  {
   "cell_type": "code",
   "execution_count": 391,
   "metadata": {},
   "outputs": [
    {
     "name": "stdout",
     "output_type": "stream",
     "text": [
      "Invalid input!\n"
     ]
    }
   ],
   "source": [
    "Customer.add_item(\"\", 4, 10000)"
   ]
  },
  {
   "attachments": {},
   "cell_type": "markdown",
   "metadata": {},
   "source": [
    "Current Order Table"
   ]
  },
  {
   "cell_type": "code",
   "execution_count": 392,
   "metadata": {},
   "outputs": [
    {
     "name": "stdout",
     "output_type": "stream",
     "text": [
      "Transaction is empty.\n"
     ]
    }
   ],
   "source": [
    "Customer.check_order()"
   ]
  },
  {
   "attachments": {},
   "cell_type": "markdown",
   "metadata": {},
   "source": [
    "### 2. Item Quantity Must be Integer and Greater Than 0\n",
    "User adds item quantity to Table with string"
   ]
  },
  {
   "cell_type": "code",
   "execution_count": 393,
   "metadata": {},
   "outputs": [
    {
     "name": "stdout",
     "output_type": "stream",
     "text": [
      "Invalid input!\n"
     ]
    }
   ],
   "source": [
    "Customer.add_item(\"Buku\", \"4\", 10000)"
   ]
  },
  {
   "attachments": {},
   "cell_type": "markdown",
   "metadata": {},
   "source": [
    "User adds item quantity to Table with negative number"
   ]
  },
  {
   "cell_type": "code",
   "execution_count": 394,
   "metadata": {},
   "outputs": [
    {
     "name": "stdout",
     "output_type": "stream",
     "text": [
      "Invalid input!\n"
     ]
    }
   ],
   "source": [
    "Customer.add_item(\"Buku\", -1, 10000)"
   ]
  },
  {
   "cell_type": "code",
   "execution_count": 395,
   "metadata": {},
   "outputs": [
    {
     "name": "stdout",
     "output_type": "stream",
     "text": [
      "Transaction is empty.\n"
     ]
    }
   ],
   "source": [
    "Customer.check_order()"
   ]
  },
  {
   "attachments": {},
   "cell_type": "markdown",
   "metadata": {},
   "source": [
    "### 2. Item Price Must be Integer or Float and Greater Than 0\n",
    "User adds item price to Table with string"
   ]
  },
  {
   "cell_type": "code",
   "execution_count": 396,
   "metadata": {},
   "outputs": [
    {
     "name": "stdout",
     "output_type": "stream",
     "text": [
      "Invalid input!\n"
     ]
    }
   ],
   "source": [
    "Customer.add_item(\"Buku\", 3, \"10000\")"
   ]
  },
  {
   "attachments": {},
   "cell_type": "markdown",
   "metadata": {},
   "source": [
    "User adds item price to Table with negative number"
   ]
  },
  {
   "cell_type": "code",
   "execution_count": 397,
   "metadata": {},
   "outputs": [
    {
     "name": "stdout",
     "output_type": "stream",
     "text": [
      "Invalid input!\n"
     ]
    }
   ],
   "source": [
    "Customer.add_item(\"Buku\", 4, -4000)"
   ]
  }
 ],
 "metadata": {
  "kernelspec": {
   "display_name": "Python 3",
   "language": "python",
   "name": "python3"
  },
  "language_info": {
   "codemirror_mode": {
    "name": "ipython",
    "version": 3
   },
   "file_extension": ".py",
   "mimetype": "text/x-python",
   "name": "python",
   "nbconvert_exporter": "python",
   "pygments_lexer": "ipython3",
   "version": "3.11.0"
  },
  "orig_nbformat": 4
 },
 "nbformat": 4,
 "nbformat_minor": 2
}
