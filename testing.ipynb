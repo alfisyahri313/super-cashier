{
 "cells": [
  {
   "cell_type": "code",
   "execution_count": 307,
   "metadata": {},
   "outputs": [],
   "source": [
    "from main import Transaction"
   ]
  },
  {
   "cell_type": "code",
   "execution_count": 308,
   "metadata": {},
   "outputs": [],
   "source": [
    "Customer = Transaction()"
   ]
  },
  {
   "cell_type": "code",
   "execution_count": 309,
   "metadata": {},
   "outputs": [
    {
     "name": "stdout",
     "output_type": "stream",
     "text": [
      "Item added.\n",
      "  item_name  quantity  price  total_price_before_discount\n",
      "0     Bakso         2  12000                        24000\n"
     ]
    }
   ],
   "source": [
    "Customer.add_item(\"Bakso\", 2, 12000)"
   ]
  },
  {
   "cell_type": "code",
   "execution_count": 310,
   "metadata": {},
   "outputs": [
    {
     "name": "stdout",
     "output_type": "stream",
     "text": [
      "Item added.\n",
      "  item_name  quantity  price  total_price_before_discount\n",
      "0     Bakso         2  12000                        24000\n",
      "1  Mie Ayam         3  10000                        30000\n"
     ]
    }
   ],
   "source": [
    "Customer.add_item(\"Mie Ayam\", 3, 10000)"
   ]
  },
  {
   "cell_type": "code",
   "execution_count": 311,
   "metadata": {},
   "outputs": [
    {
     "name": "stdout",
     "output_type": "stream",
     "text": [
      "Item deleted.\n",
      "  item_name  quantity  price  total_price_before_discount\n",
      "0  Mie Ayam         3  10000                        30000\n"
     ]
    }
   ],
   "source": [
    "Customer.delete_item(\"Bakso\")"
   ]
  },
  {
   "cell_type": "code",
   "execution_count": 312,
   "metadata": {},
   "outputs": [
    {
     "name": "stdout",
     "output_type": "stream",
     "text": [
      "Transaction reset.\n",
      "Transaction is empty.\n"
     ]
    }
   ],
   "source": [
    "Customer.reset_transaction()"
   ]
  },
  {
   "cell_type": "code",
   "execution_count": 313,
   "metadata": {},
   "outputs": [
    {
     "name": "stdout",
     "output_type": "stream",
     "text": [
      "Total Price Before Discount: 0\n",
      "Total Discount: 0\n",
      "Total Price: 0\n"
     ]
    }
   ],
   "source": [
    "Customer.check_out()"
   ]
  },
  {
   "cell_type": "code",
   "execution_count": 314,
   "metadata": {},
   "outputs": [
    {
     "name": "stdout",
     "output_type": "stream",
     "text": [
      "Item added.\n",
      "  item_name  quantity  price  total_price_before_discount\n",
      "0     Bakso         2  12000                        24000\n",
      "Item added.\n",
      "  item_name  quantity  price  total_price_before_discount\n",
      "0     Bakso         2  12000                        24000\n",
      "1  Mie Ayam         3  10000                        30000\n",
      "Item added.\n",
      "  item_name  quantity   price  total_price_before_discount\n",
      "0     Bakso         2   12000                        24000\n",
      "1  Mie Ayam         3   10000                        30000\n",
      "2     Steak         3  100000                       300000\n"
     ]
    }
   ],
   "source": [
    "Customer.add_item(\"Bakso\", 2, 12000)\n",
    "Customer.add_item(\"Mie Ayam\", 3, 10000)\n",
    "Customer.add_item(\"Steak\", 3, 100000)"
   ]
  },
  {
   "cell_type": "code",
   "execution_count": 315,
   "metadata": {},
   "outputs": [
    {
     "name": "stdout",
     "output_type": "stream",
     "text": [
      "Item name updated.\n",
      "  item_name  quantity   price  total_price_before_discount\n",
      "0      Soto         2   12000                        24000\n",
      "1  Mie Ayam         3   10000                        30000\n",
      "2     Steak         3  100000                       300000\n"
     ]
    }
   ],
   "source": [
    "Customer.update_item_name(\"Bakso\", \"Soto\")"
   ]
  },
  {
   "cell_type": "code",
   "execution_count": 317,
   "metadata": {},
   "outputs": [
    {
     "name": "stdout",
     "output_type": "stream",
     "text": [
      "Item quantity updated.\n",
      "  item_name  quantity   price  total_price_before_discount\n",
      "0      Soto         2   12000                        24000\n",
      "1  Mie Ayam         3   10000                        30000\n",
      "2     Steak         2  100000                       200000\n"
     ]
    }
   ],
   "source": [
    "Customer.update_item_quantity(\"Steak\", 2)"
   ]
  },
  {
   "cell_type": "code",
   "execution_count": null,
   "metadata": {},
   "outputs": [
    {
     "name": "stdout",
     "output_type": "stream",
     "text": [
      "Item price updated.\n",
      "  item_name  qty   price  total_price_before_discount\n",
      "0      Soto    2   12000                        24000\n",
      "1  Mie Ayam    3   10000                        30000\n",
      "2     Steak    2  150000                       300000\n"
     ]
    }
   ],
   "source": [
    "Customer.update_item_price(\"Steak\", 150000)\n"
   ]
  },
  {
   "cell_type": "code",
   "execution_count": 318,
   "metadata": {},
   "outputs": [
    {
     "name": "stdout",
     "output_type": "stream",
     "text": [
      "Soto: 2 x 12000 = 24000\n",
      "Mie Ayam: 3 x 10000 = 30000\n",
      "Steak: 2 x 100000 = 200000\n",
      "Total Price Before Discount: 254000\n",
      "Total Discount: 0\n",
      "Total Price: 254000\n"
     ]
    }
   ],
   "source": [
    "Customer.check_out()"
   ]
  },
  {
   "cell_type": "code",
   "execution_count": null,
   "metadata": {},
   "outputs": [
    {
     "name": "stdout",
     "output_type": "stream",
     "text": [
      "Invalid input!\n"
     ]
    }
   ],
   "source": [
    "Customer.add_item(12, 3, 10000)"
   ]
  },
  {
   "cell_type": "code",
   "execution_count": null,
   "metadata": {},
   "outputs": [
    {
     "name": "stdout",
     "output_type": "stream",
     "text": [
      "  item_name  qty   price  total_price_before_discount\n",
      "0      Soto    2   12000                        24000\n",
      "1  Mie Ayam    3   10000                        30000\n",
      "2     Steak    2  150000                       300000\n"
     ]
    }
   ],
   "source": [
    "Customer.check_order()"
   ]
  }
 ],
 "metadata": {
  "kernelspec": {
   "display_name": "Python 3",
   "language": "python",
   "name": "python3"
  },
  "language_info": {
   "codemirror_mode": {
    "name": "ipython",
    "version": 3
   },
   "file_extension": ".py",
   "mimetype": "text/x-python",
   "name": "python",
   "nbconvert_exporter": "python",
   "pygments_lexer": "ipython3",
   "version": "3.11.0"
  },
  "orig_nbformat": 4
 },
 "nbformat": 4,
 "nbformat_minor": 2
}
